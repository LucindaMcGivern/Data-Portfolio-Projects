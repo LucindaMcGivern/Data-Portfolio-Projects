{
 "cells": [
  {
   "cell_type": "code",
   "execution_count": 78,
   "id": "433986a8",
   "metadata": {},
   "outputs": [],
   "source": [
    "import csv\n",
    "import requests\n",
    "from bs4 import BeautifulSoup"
   ]
  },
  {
   "cell_type": "code",
   "execution_count": 79,
   "id": "80b6f7f8",
   "metadata": {},
   "outputs": [],
   "source": [
    "# tell BeautifulSoup, requests where to get data\n",
    "amz = 'https://www.amazon.ca/Corgis-Monthly-Calendar-Bright-Day/dp/B0BQ3ZKL25/ref=sr_1_8?crid=Z6CLQ5CE3915&keywords=corgi&qid=1701229444&sprefix=corgi%2Caps%2C167&sr=8-8'\n",
    "\n",
    "# user agent\n",
    "headers = {\"User-Agent\": \"Mozilla/5.0 (Windows NT 10.0; Win64; x64) AppleWebKit/537.36 (KHTML, like Gecko) Chrome/119.0.0.0 Safari/537.36\", \"Accept-Encoding\":\"gzip, deflate\", \"Accept\":\"text/html,application/xhtml+xml,application/xml;q=0.9,*/*;q=0.8\", \"DNT\":\"1\",\"Connection\":\"close\", \"Upgrade-Insecure-Requests\":\"1\"}\n",
    "\n",
    "web = requests.get(amz, headers = headers)\n",
    "\n",
    "#pull page content\n",
    "content1 = BeautifulSoup(web.content, \"html.parser\")\n",
    "content1read = BeautifulSoup(content1.prettify(), \"html.parser\") \n"
   ]
  },
  {
   "cell_type": "code",
   "execution_count": 80,
   "id": "525abfb5",
   "metadata": {},
   "outputs": [
    {
     "name": "stdout",
     "output_type": "stream",
     "text": [
      "2024 Corgis Monthly Wall Calendar by Bright Day, 12 x 12 Inch\n"
     ]
    }
   ],
   "source": [
    "#pull content title\n",
    "pagetitle = content1read.find(id='productTitle').get_text()\n",
    "\n",
    "#too much whitespace\n",
    "productname = pagetitle.strip()\n",
    "\n",
    "print(productname)\n"
   ]
  },
  {
   "cell_type": "code",
   "execution_count": 60,
   "id": "074b8300",
   "metadata": {},
   "outputs": [
    {
     "name": "stdout",
     "output_type": "stream",
     "text": [
      "$16.99\n",
      "                                  \n",
      "\n",
      "\n",
      "\n",
      "\n",
      "                                    16\n",
      "                                    \n",
      "                                     .\n",
      "                                    \n",
      "\n",
      "\n",
      "                                    99\n",
      "$16.99\n",
      "\n"
     ]
    }
   ],
   "source": [
    "#pull content price\n",
    "pageprice = content1read.find(id='tp_price_block_total_price_ww').get_text()\n",
    "clean_price = pageprice.strip()\n",
    "productprice = clean_price.split(' ', 1)[0]\n",
    "\n",
    "print(productprice)"
   ]
  },
  {
   "cell_type": "code",
   "execution_count": 81,
   "id": "a537c5c0",
   "metadata": {},
   "outputs": [
    {
     "name": "stdout",
     "output_type": "stream",
     "text": [
      "2023-11-30\n"
     ]
    }
   ],
   "source": [
    "#pull date \n",
    "import datetime\n",
    "\n",
    "record = datetime.date.today()\n",
    "\n",
    "print(record)\n"
   ]
  },
  {
   "cell_type": "code",
   "execution_count": 82,
   "id": "af918dbb",
   "metadata": {},
   "outputs": [],
   "source": [
    "#create csv\n",
    "\n",
    "colnames = ['Product Name', 'Product Price', 'Date']\n",
    "\n",
    "#make a list\n",
    "csv_out = [productname, productprice, record]\n",
    "\n",
    "#write csv\n",
    "with open('amzscrape.csv', 'w', newline='', encoding='UTF8') as m:\n",
    "    filewrite = csv.writer(m)\n",
    "    filewrite.writerow(colnames)\n",
    "    filewrite.writerow(csv_out)\n",
    "    "
   ]
  },
  {
   "cell_type": "code",
   "execution_count": 83,
   "id": "564809ed",
   "metadata": {},
   "outputs": [],
   "source": [
    "# add data to csv \n",
    "with open('amzscrape.csv', 'a+', newline='', encoding='UTF8') as m:\n",
    "    filewrite = csv.writer(m) \n",
    "    filewrite.writerow(csv_out)"
   ]
  },
  {
   "cell_type": "code",
   "execution_count": 87,
   "id": "ae5ba8a0",
   "metadata": {},
   "outputs": [],
   "source": [
    "def amzpricecheck():\n",
    "    # tell BeautifulSoup, requests where to get data\n",
    "    amz = 'https://www.amazon.ca/Corgis-Monthly-Calendar-Bright-Day/dp/B0BQ3ZKL25/ref=sr_1_8?crid=Z6CLQ5CE3915&keywords=corgi&qid=1701229444&sprefix=corgi%2Caps%2C167&sr=8-8'\n",
    "\n",
    "    # user agent\n",
    "    headers = {\"User-Agent\": \"Mozilla/5.0 (Windows NT 10.0; Win64; x64) AppleWebKit/537.36 (KHTML, like Gecko) Chrome/119.0.0.0 Safari/537.36\", \"Accept-Encoding\":\"gzip, deflate\", \"Accept\":\"text/html,application/xhtml+xml,application/xml;q=0.9,*/*;q=0.8\", \"DNT\":\"1\",\"Connection\":\"close\", \"Upgrade-Insecure-Requests\":\"1\"}\n",
    "\n",
    "    web = requests.get(amz, headers = headers)\n",
    "\n",
    "    #pull page content\n",
    "    content1 = BeautifulSoup(web.content, \"html.parser\")\n",
    "    content1read = BeautifulSoup(content1.prettify(), \"html.parser\") \n",
    "    \n",
    "    #pull content title\n",
    "    pagetitle = content1read.find(id='productTitle').get_text()\n",
    "\n",
    "    #too much whitespace\n",
    "    productname = pagetitle.strip()\n",
    "    \n",
    "    #pull content price\n",
    "    pageprice = content1read.find(id='tp_price_block_total_price_ww').get_text()\n",
    "    clean_price = pageprice.strip()\n",
    "    productprice = clean_price.split(' ', 1)[0]\n",
    "    \n",
    "    #date\n",
    "    import datetime\n",
    "    record = datetime.date.today()\n",
    "    \n",
    "    \n",
    "    #create csv\n",
    "    import csv\n",
    "\n",
    "    colnames = ['Product Name', 'Product Price', 'Date']\n",
    "\n",
    "    #make a list\n",
    "    csv_out = [productname, productprice, record]\n",
    "        \n",
    "    # add data to csv \n",
    "    with open('amzscrape.csv', 'a+', newline='', encoding='UTF8') as m:\n",
    "        filewrite = csv.writer(m) \n",
    "        filewrite.writerow(csv_out)"
   ]
  },
  {
   "cell_type": "code",
   "execution_count": 88,
   "id": "fef95176",
   "metadata": {
    "scrolled": true
   },
   "outputs": [
    {
     "ename": "KeyboardInterrupt",
     "evalue": "",
     "output_type": "error",
     "traceback": [
      "\u001b[1;31m---------------------------------------------------------------------------\u001b[0m",
      "\u001b[1;31mKeyboardInterrupt\u001b[0m                         Traceback (most recent call last)",
      "Cell \u001b[1;32mIn[88], line 4\u001b[0m\n\u001b[0;32m      2\u001b[0m \u001b[38;5;28;01mwhile\u001b[39;00m(\u001b[38;5;28;01mTrue\u001b[39;00m):\n\u001b[0;32m      3\u001b[0m     amzpricecheck()\n\u001b[1;32m----> 4\u001b[0m     time\u001b[38;5;241m.\u001b[39msleep(\u001b[38;5;241m3\u001b[39m)\n",
      "\u001b[1;31mKeyboardInterrupt\u001b[0m: "
     ]
    }
   ],
   "source": [
    "import time\n",
    "while(True):\n",
    "    amzpricecheck()\n",
    "    time.sleep(43200)"
   ]
  },
  {
   "cell_type": "code",
   "execution_count": null,
   "id": "7edf8d78",
   "metadata": {},
   "outputs": [],
   "source": []
  }
 ],
 "metadata": {
  "kernelspec": {
   "display_name": "Python 3 (ipykernel)",
   "language": "python",
   "name": "python3"
  },
  "language_info": {
   "codemirror_mode": {
    "name": "ipython",
    "version": 3
   },
   "file_extension": ".py",
   "mimetype": "text/x-python",
   "name": "python",
   "nbconvert_exporter": "python",
   "pygments_lexer": "ipython3",
   "version": "3.11.5"
  }
 },
 "nbformat": 4,
 "nbformat_minor": 5
}
